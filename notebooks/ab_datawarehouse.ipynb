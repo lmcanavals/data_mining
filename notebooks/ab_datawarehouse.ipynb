{
  "nbformat": 4,
  "nbformat_minor": 0,
  "metadata": {
    "colab": {
      "name": "ab_datawarehouse.ipynb",
      "provenance": [],
      "authorship_tag": "ABX9TyN8dEJlKeEK4f5j8C5isbau",
      "include_colab_link": true
    },
    "kernelspec": {
      "name": "python3",
      "display_name": "Python 3"
    },
    "language_info": {
      "name": "python"
    }
  },
  "cells": [
    {
      "cell_type": "markdown",
      "metadata": {
        "id": "view-in-github",
        "colab_type": "text"
      },
      "source": [
        "<a href=\"https://colab.research.google.com/github/lmcanavals/data_mining/blob/main/notebooks/ab_datawarehouse.ipynb\" target=\"_parent\"><img src=\"https://colab.research.google.com/assets/colab-badge.svg\" alt=\"Open In Colab\"/></a>"
      ]
    },
    {
      "cell_type": "code",
      "metadata": {
        "id": "g4D9LUWhDlKF"
      },
      "source": [
        "import pandas as pd\n",
        "import numpy as np\n",
        "import matplotlib.pyplot as plt"
      ],
      "execution_count": 1,
      "outputs": []
    },
    {
      "cell_type": "code",
      "metadata": {
        "id": "CPlPQvrmCiGR"
      },
      "source": [
        "BASE=\"https://raw.githubusercontent.com/lmcanavals/data_mining/main/data/\"\n",
        "PRODUCTS_CSV=f\"{BASE}products.csv\"\n",
        "WEB_ORDERS_CSV=f\"{BASE}web_orders.csv\"\n",
        "CATALOG_ORDERS_CSV=f\"{BASE}catalog_orders.csv\""
      ],
      "execution_count": 2,
      "outputs": []
    },
    {
      "cell_type": "code",
      "metadata": {
        "colab": {
          "base_uri": "https://localhost:8080/",
          "height": 204
        },
        "id": "4e_sp6rTEETC",
        "outputId": "1c8598d7-e19e-474a-ece0-aec4dffc6f23"
      },
      "source": [
        "catalog = pd.read_csv(CATALOG_ORDERS_CSV)\n",
        "catalog.head()"
      ],
      "execution_count": 40,
      "outputs": [
        {
          "output_type": "execute_result",
          "data": {
            "text/html": [
              "<div>\n",
              "<style scoped>\n",
              "    .dataframe tbody tr th:only-of-type {\n",
              "        vertical-align: middle;\n",
              "    }\n",
              "\n",
              "    .dataframe tbody tr th {\n",
              "        vertical-align: top;\n",
              "    }\n",
              "\n",
              "    .dataframe thead th {\n",
              "        text-align: right;\n",
              "    }\n",
              "</style>\n",
              "<table border=\"1\" class=\"dataframe\">\n",
              "  <thead>\n",
              "    <tr style=\"text-align: right;\">\n",
              "      <th></th>\n",
              "      <th>ID</th>\n",
              "      <th>INV</th>\n",
              "      <th>DATE</th>\n",
              "      <th>CATALOG</th>\n",
              "      <th>PCODE</th>\n",
              "      <th>QTY</th>\n",
              "      <th>custnum</th>\n",
              "    </tr>\n",
              "  </thead>\n",
              "  <tbody>\n",
              "    <tr>\n",
              "      <th>0</th>\n",
              "      <td>1</td>\n",
              "      <td>107707</td>\n",
              "      <td>3/97/7 00:00:00</td>\n",
              "      <td>Sports</td>\n",
              "      <td>SP1000</td>\n",
              "      <td>1</td>\n",
              "      <td>1242</td>\n",
              "    </tr>\n",
              "    <tr>\n",
              "      <th>1</th>\n",
              "      <td>2</td>\n",
              "      <td>110633</td>\n",
              "      <td>3/97/25 00:00:00</td>\n",
              "      <td>Gardening</td>\n",
              "      <td>GD2200</td>\n",
              "      <td>1</td>\n",
              "      <td>1243</td>\n",
              "    </tr>\n",
              "    <tr>\n",
              "      <th>2</th>\n",
              "      <td>3</td>\n",
              "      <td>111155</td>\n",
              "      <td>3/97/28 00:00:00</td>\n",
              "      <td>Pets</td>\n",
              "      <td>PT1300</td>\n",
              "      <td>3</td>\n",
              "      <td>1244</td>\n",
              "    </tr>\n",
              "    <tr>\n",
              "      <th>3</th>\n",
              "      <td>4</td>\n",
              "      <td>126867</td>\n",
              "      <td>6/97/22 00:00:00</td>\n",
              "      <td>Toys</td>\n",
              "      <td>TY4100</td>\n",
              "      <td>1</td>\n",
              "      <td>1245</td>\n",
              "    </tr>\n",
              "    <tr>\n",
              "      <th>4</th>\n",
              "      <td>5</td>\n",
              "      <td>135872</td>\n",
              "      <td>8/97/8 00:00:00</td>\n",
              "      <td>Toys</td>\n",
              "      <td>TY1200</td>\n",
              "      <td>4</td>\n",
              "      <td>1246</td>\n",
              "    </tr>\n",
              "  </tbody>\n",
              "</table>\n",
              "</div>"
            ],
            "text/plain": [
              "   ID     INV              DATE    CATALOG   PCODE  QTY  custnum\n",
              "0   1  107707   3/97/7 00:00:00     Sports  SP1000    1     1242\n",
              "1   2  110633  3/97/25 00:00:00  Gardening  GD2200    1     1243\n",
              "2   3  111155  3/97/28 00:00:00       Pets  PT1300    3     1244\n",
              "3   4  126867  6/97/22 00:00:00       Toys  TY4100    1     1245\n",
              "4   5  135872   8/97/8 00:00:00       Toys  TY1200    4     1246"
            ]
          },
          "metadata": {
            "tags": []
          },
          "execution_count": 40
        }
      ]
    },
    {
      "cell_type": "code",
      "metadata": {
        "colab": {
          "base_uri": "https://localhost:8080/"
        },
        "id": "Wes9T_dSEMTg",
        "outputId": "42287833-5e74-4780-9875-bba0a68ecfa3"
      },
      "source": [
        "print(len(catalog))"
      ],
      "execution_count": 4,
      "outputs": [
        {
          "output_type": "stream",
          "text": [
            "6767\n"
          ],
          "name": "stdout"
        }
      ]
    },
    {
      "cell_type": "markdown",
      "metadata": {
        "id": "gMW3ZV4aHcQJ"
      },
      "source": [
        "La columna QTY tiene algunos valores `NaN` y espacio en blanco, por lo que es considerada una fila de tipo `obj` o `string`, reemplazamos los `NaN` con 0.0 con la función `fillna`, in place y los espacios en blanco con 0.0 filtrando."
      ]
    },
    {
      "cell_type": "code",
      "metadata": {
        "id": "tLDsFC6eGuQG"
      },
      "source": [
        "#catalog.fillna(0.0, inplace=True)\n",
        "#catalog[catalog['QTY'] == ' '] = 0.0"
      ],
      "execution_count": 17,
      "outputs": []
    },
    {
      "cell_type": "markdown",
      "metadata": {
        "id": "Pz8YsSxvHt-p"
      },
      "source": [
        "Ahora podemos convertir QTY a float64 con la función `astype`"
      ]
    },
    {
      "cell_type": "code",
      "metadata": {
        "id": "42age_waEq9S"
      },
      "source": [
        "#catalog['QTY'] = catalog['QTY'].astype('float64')\n",
        "#catalog['QTY'].unique()"
      ],
      "execution_count": 18,
      "outputs": []
    },
    {
      "cell_type": "code",
      "metadata": {
        "colab": {
          "base_uri": "https://localhost:8080/"
        },
        "id": "iFFW1wbMEXMZ",
        "outputId": "1f3f1a0e-168d-4262-ed19-77e6e0d24b6b"
      },
      "source": [
        "for column in catalog:\n",
        "  print(f\"Column: {column:10}dtype={catalog[column].dtype}\")\n",
        "  if catalog[column].dtype in ['int', 'float64']:\n",
        "    print(f\"{np.min(catalog[column])}-{np.max(catalog[column])}  var={np.var(catalog[column])}\")\n",
        "  \n",
        "  print(len(catalog[column].unique()))"
      ],
      "execution_count": 41,
      "outputs": [
        {
          "output_type": "stream",
          "text": [
            "Column: ID        dtype=int64\n",
            "1-6767  var=3816024.0\n",
            "6767\n",
            "Column: INV       dtype=int64\n",
            "98689-243377  var=1607111189.5751636\n",
            "1711\n",
            "Column: DATE      dtype=object\n",
            "1019\n",
            "Column: CATALOG   dtype=object\n",
            "7\n",
            "Column: PCODE     dtype=object\n",
            "225\n",
            "Column: QTY       dtype=int64\n",
            "0-4  var=1.0552421172917852\n",
            "5\n",
            "Column: custnum   dtype=int64\n",
            "2-13789000  var=22067114410619.76\n",
            "3164\n"
          ],
          "name": "stdout"
        }
      ]
    },
    {
      "cell_type": "code",
      "metadata": {
        "colab": {
          "base_uri": "https://localhost:8080/",
          "height": 512
        },
        "id": "Y6GVRWt_FNr2",
        "outputId": "9e71cb4d-2065-49ff-8ce5-ad31e1c38221"
      },
      "source": [
        "ax = catalog['INV'].plot.hist(density=True, figsize=(8, 8))\n",
        "catalog['INV'].plot.density(ax=ax)"
      ],
      "execution_count": 42,
      "outputs": [
        {
          "output_type": "execute_result",
          "data": {
            "text/plain": [
              "<matplotlib.axes._subplots.AxesSubplot at 0x7f514208f790>"
            ]
          },
          "metadata": {
            "tags": []
          },
          "execution_count": 42
        },
        {
          "output_type": "display_data",
          "data": {
            "image/png": "[encoded data removed]",
            "text/plain": [
              "<Figure size 576x576 with 1 Axes>"
            ]
          },
          "metadata": {
            "tags": [],
            "needs_background": "light"
          }
        }
      ]
    },
    {
      "cell_type": "code",
      "metadata": {
        "colab": {
          "base_uri": "https://localhost:8080/",
          "height": 525
        },
        "id": "znVru_RLKiwk",
        "outputId": "99b740eb-dd9b-410a-8b54-d472d7f0ad35"
      },
      "source": [
        "ax = catalog['custnum'].plot.hist(density=True, figsize=(8, 8))\n",
        "catalog['custnum'].plot.density(ax=ax)"
      ],
      "execution_count": 43,
      "outputs": [
        {
          "output_type": "execute_result",
          "data": {
            "text/plain": [
              "<matplotlib.axes._subplots.AxesSubplot at 0x7f5141a17b10>"
            ]
          },
          "metadata": {
            "tags": []
          },
          "execution_count": 43
        },
        {
          "output_type": "display_data",
          "data": {
            "image/png": "[encoded data removed]",
            "text/plain": [
              "<Figure size 576x576 with 1 Axes>"
            ]
          },
          "metadata": {
            "tags": [],
            "needs_background": "light"
          }
        }
      ]
    },
    {
      "cell_type": "code",
      "metadata": {
        "colab": {
          "base_uri": "https://localhost:8080/",
          "height": 643
        },
        "id": "9dnuyxEoL0e9",
        "outputId": "db3701b4-3b6a-4bd8-a868-7a0871f02085"
      },
      "source": [
        "ax = catalog.boxplot(by=\"CATALOG\", column='custnum', figsize=(8, 8))\n",
        "plt.xticks(rotation='vertical')\n",
        "plt.show()"
      ],
      "execution_count": 44,
      "outputs": [
        {
          "output_type": "stream",
          "text": [
            "/usr/local/lib/python3.7/dist-packages/numpy/core/_asarray.py:83: VisibleDeprecationWarning: Creating an ndarray from ragged nested sequences (which is a list-or-tuple of lists-or-tuples-or ndarrays with different lengths or shapes) is deprecated. If you meant to do this, you must specify 'dtype=object' when creating the ndarray\n",
            "  return array(a, dtype, copy=False, order=order)\n"
          ],
          "name": "stderr"
        },
        {
          "output_type": "display_data",
          "data": {
            "image/png": "[encoded data removed]",
            "text/plain": [
              "<Figure size 576x576 with 1 Axes>"
            ]
          },
          "metadata": {
            "tags": [],
            "needs_background": "light"
          }
        }
      ]
    },
    {
      "cell_type": "markdown",
      "metadata": {
        "id": "rck9CFlxQhR9"
      },
      "source": [
        "Integrando data para Datawarehouse (ojo, notebook no es la herramienta ideal para trabajar datawarehouse)"
      ]
    },
    {
      "cell_type": "code",
      "metadata": {
        "id": "j6CCLBaFQy1v"
      },
      "source": [
        "products = pd.read_csv(PRODUCTS_CSV)\n",
        "weborders = pd.read_csv(WEB_ORDERS_CSV, sep=';')"
      ],
      "execution_count": 54,
      "outputs": []
    },
    {
      "cell_type": "code",
      "metadata": {
        "colab": {
          "base_uri": "https://localhost:8080/",
          "height": 204
        },
        "id": "AsuwCG5UMgQO",
        "outputId": "aa1864e1-6155-439d-e9ec-7d709a6bd991"
      },
      "source": [
        "catalog.head()"
      ],
      "execution_count": 45,
      "outputs": [
        {
          "output_type": "execute_result",
          "data": {
            "text/html": [
              "<div>\n",
              "<style scoped>\n",
              "    .dataframe tbody tr th:only-of-type {\n",
              "        vertical-align: middle;\n",
              "    }\n",
              "\n",
              "    .dataframe tbody tr th {\n",
              "        vertical-align: top;\n",
              "    }\n",
              "\n",
              "    .dataframe thead th {\n",
              "        text-align: right;\n",
              "    }\n",
              "</style>\n",
              "<table border=\"1\" class=\"dataframe\">\n",
              "  <thead>\n",
              "    <tr style=\"text-align: right;\">\n",
              "      <th></th>\n",
              "      <th>ID</th>\n",
              "      <th>INV</th>\n",
              "      <th>DATE</th>\n",
              "      <th>CATALOG</th>\n",
              "      <th>PCODE</th>\n",
              "      <th>QTY</th>\n",
              "      <th>custnum</th>\n",
              "    </tr>\n",
              "  </thead>\n",
              "  <tbody>\n",
              "    <tr>\n",
              "      <th>0</th>\n",
              "      <td>1</td>\n",
              "      <td>107707</td>\n",
              "      <td>3/97/7 00:00:00</td>\n",
              "      <td>Sports</td>\n",
              "      <td>SP1000</td>\n",
              "      <td>1</td>\n",
              "      <td>1242</td>\n",
              "    </tr>\n",
              "    <tr>\n",
              "      <th>1</th>\n",
              "      <td>2</td>\n",
              "      <td>110633</td>\n",
              "      <td>3/97/25 00:00:00</td>\n",
              "      <td>Gardening</td>\n",
              "      <td>GD2200</td>\n",
              "      <td>1</td>\n",
              "      <td>1243</td>\n",
              "    </tr>\n",
              "    <tr>\n",
              "      <th>2</th>\n",
              "      <td>3</td>\n",
              "      <td>111155</td>\n",
              "      <td>3/97/28 00:00:00</td>\n",
              "      <td>Pets</td>\n",
              "      <td>PT1300</td>\n",
              "      <td>3</td>\n",
              "      <td>1244</td>\n",
              "    </tr>\n",
              "    <tr>\n",
              "      <th>3</th>\n",
              "      <td>4</td>\n",
              "      <td>126867</td>\n",
              "      <td>6/97/22 00:00:00</td>\n",
              "      <td>Toys</td>\n",
              "      <td>TY4100</td>\n",
              "      <td>1</td>\n",
              "      <td>1245</td>\n",
              "    </tr>\n",
              "    <tr>\n",
              "      <th>4</th>\n",
              "      <td>5</td>\n",
              "      <td>135872</td>\n",
              "      <td>8/97/8 00:00:00</td>\n",
              "      <td>Toys</td>\n",
              "      <td>TY1200</td>\n",
              "      <td>4</td>\n",
              "      <td>1246</td>\n",
              "    </tr>\n",
              "  </tbody>\n",
              "</table>\n",
              "</div>"
            ],
            "text/plain": [
              "   ID     INV              DATE    CATALOG   PCODE  QTY  custnum\n",
              "0   1  107707   3/97/7 00:00:00     Sports  SP1000    1     1242\n",
              "1   2  110633  3/97/25 00:00:00  Gardening  GD2200    1     1243\n",
              "2   3  111155  3/97/28 00:00:00       Pets  PT1300    3     1244\n",
              "3   4  126867  6/97/22 00:00:00       Toys  TY4100    1     1245\n",
              "4   5  135872   8/97/8 00:00:00       Toys  TY1200    4     1246"
            ]
          },
          "metadata": {
            "tags": []
          },
          "execution_count": 45
        }
      ]
    },
    {
      "cell_type": "code",
      "metadata": {
        "colab": {
          "base_uri": "https://localhost:8080/",
          "height": 204
        },
        "id": "fTf6Gj3CQrN0",
        "outputId": "2f92107d-43ce-4cb2-fa02-a12b50f9e449"
      },
      "source": [
        "products.head()"
      ],
      "execution_count": 48,
      "outputs": [
        {
          "output_type": "execute_result",
          "data": {
            "text/html": [
              "<div>\n",
              "<style scoped>\n",
              "    .dataframe tbody tr th:only-of-type {\n",
              "        vertical-align: middle;\n",
              "    }\n",
              "\n",
              "    .dataframe tbody tr th {\n",
              "        vertical-align: top;\n",
              "    }\n",
              "\n",
              "    .dataframe thead th {\n",
              "        text-align: right;\n",
              "    }\n",
              "</style>\n",
              "<table border=\"1\" class=\"dataframe\">\n",
              "  <thead>\n",
              "    <tr style=\"text-align: right;\">\n",
              "      <th></th>\n",
              "      <th>ID</th>\n",
              "      <th>TYPE</th>\n",
              "      <th>DESCRIP</th>\n",
              "      <th>PRICE</th>\n",
              "      <th>COST</th>\n",
              "      <th>PCODE</th>\n",
              "      <th>supplier</th>\n",
              "    </tr>\n",
              "  </thead>\n",
              "  <tbody>\n",
              "    <tr>\n",
              "      <th>0</th>\n",
              "      <td>1</td>\n",
              "      <td>Database</td>\n",
              "      <td>Track-It-All</td>\n",
              "      <td>560.00</td>\n",
              "      <td>425.0</td>\n",
              "      <td>SW1005</td>\n",
              "      <td>Software America, Inc.</td>\n",
              "    </tr>\n",
              "    <tr>\n",
              "      <th>1</th>\n",
              "      <td>2</td>\n",
              "      <td>Database</td>\n",
              "      <td>Omnibus</td>\n",
              "      <td>499.95</td>\n",
              "      <td>450.0</td>\n",
              "      <td>SW1207</td>\n",
              "      <td>Software America</td>\n",
              "    </tr>\n",
              "    <tr>\n",
              "      <th>2</th>\n",
              "      <td>3</td>\n",
              "      <td>Database</td>\n",
              "      <td>Balboa</td>\n",
              "      <td>499.00</td>\n",
              "      <td>300.0</td>\n",
              "      <td>SW3049</td>\n",
              "      <td>Software America</td>\n",
              "    </tr>\n",
              "    <tr>\n",
              "      <th>3</th>\n",
              "      <td>4</td>\n",
              "      <td>Financial</td>\n",
              "      <td>Stock Market Analyst</td>\n",
              "      <td>69.95</td>\n",
              "      <td>45.0</td>\n",
              "      <td>SW2842</td>\n",
              "      <td>Software America</td>\n",
              "    </tr>\n",
              "    <tr>\n",
              "      <th>4</th>\n",
              "      <td>5</td>\n",
              "      <td>Financial</td>\n",
              "      <td>Tax Relief (Version 10.40)</td>\n",
              "      <td>77.95</td>\n",
              "      <td>54.5</td>\n",
              "      <td>SW4187</td>\n",
              "      <td>Software America</td>\n",
              "    </tr>\n",
              "  </tbody>\n",
              "</table>\n",
              "</div>"
            ],
            "text/plain": [
              "   ID       TYPE  ...   PCODE                supplier\n",
              "0   1   Database  ...  SW1005  Software America, Inc.\n",
              "1   2   Database  ...  SW1207        Software America\n",
              "2   3   Database  ...  SW3049        Software America\n",
              "3   4  Financial  ...  SW2842        Software America\n",
              "4   5  Financial  ...  SW4187        Software America\n",
              "\n",
              "[5 rows x 7 columns]"
            ]
          },
          "metadata": {
            "tags": []
          },
          "execution_count": 48
        }
      ]
    },
    {
      "cell_type": "code",
      "metadata": {
        "colab": {
          "base_uri": "https://localhost:8080/",
          "height": 204
        },
        "id": "z5nchNiQQ97x",
        "outputId": "ebe88ca7-e413-49da-d87a-44ab7b95046d"
      },
      "source": [
        "weborders.head()"
      ],
      "execution_count": 55,
      "outputs": [
        {
          "output_type": "execute_result",
          "data": {
            "text/html": [
              "<div>\n",
              "<style scoped>\n",
              "    .dataframe tbody tr th:only-of-type {\n",
              "        vertical-align: middle;\n",
              "    }\n",
              "\n",
              "    .dataframe tbody tr th {\n",
              "        vertical-align: top;\n",
              "    }\n",
              "\n",
              "    .dataframe thead th {\n",
              "        text-align: right;\n",
              "    }\n",
              "</style>\n",
              "<table border=\"1\" class=\"dataframe\">\n",
              "  <thead>\n",
              "    <tr style=\"text-align: right;\">\n",
              "      <th></th>\n",
              "      <th></th>\n",
              "      <th></th>\n",
              "      <th></th>\n",
              "      <th></th>\n",
              "      <th></th>\n",
              "      <th>ID,\"INV\",\"DATE\",\"CATALOG\",\"PCODE\",\"QTY\",\"custnum\"</th>\n",
              "    </tr>\n",
              "  </thead>\n",
              "  <tbody>\n",
              "    <tr>\n",
              "      <th>1</th>\n",
              "      <th>2513000.0</th>\n",
              "      <th>GD3200</th>\n",
              "      <th>17/12/2000 00:00:00</th>\n",
              "      <th>Gardening</th>\n",
              "      <th>3.0</th>\n",
              "      <td>Rifkin, Mr. Bob</td>\n",
              "    </tr>\n",
              "    <tr>\n",
              "      <th>2</th>\n",
              "      <th>2513000.0</th>\n",
              "      <th>PT1400</th>\n",
              "      <th>6/1/2001 00:00:00</th>\n",
              "      <th>Pets</th>\n",
              "      <th>1.0</th>\n",
              "      <td>Rifkin, Mr. Bob</td>\n",
              "    </tr>\n",
              "    <tr>\n",
              "      <th>3</th>\n",
              "      <th>2513000.0</th>\n",
              "      <th>PT2000</th>\n",
              "      <th>6/1/2001 00:00:00</th>\n",
              "      <th>Pet</th>\n",
              "      <th>1.0</th>\n",
              "      <td>Rifkin, Mr. Bob</td>\n",
              "    </tr>\n",
              "    <tr>\n",
              "      <th>4</th>\n",
              "      <th>2513000.0</th>\n",
              "      <th>PT2100</th>\n",
              "      <th>6/1/2001 00:00:00</th>\n",
              "      <th>Pets</th>\n",
              "      <th>1.0</th>\n",
              "      <td>Rifkin, Mr. Bob</td>\n",
              "    </tr>\n",
              "    <tr>\n",
              "      <th>5</th>\n",
              "      <th>2513000.0</th>\n",
              "      <th>PT2OOO</th>\n",
              "      <th>27/7/2000 00:00:00</th>\n",
              "      <th>Pets</th>\n",
              "      <th>4.0</th>\n",
              "      <td>Rifkin, Mr. Bob</td>\n",
              "    </tr>\n",
              "  </tbody>\n",
              "</table>\n",
              "</div>"
            ],
            "text/plain": [
              "                                                     ID,\"INV\",\"DATE\",\"CATALOG\",\"PCODE\",\"QTY\",\"custnum\"\n",
              "1 2513000.0 GD3200 17/12/2000 00:00:00 Gardening 3.0                                   Rifkin, Mr. Bob\n",
              "2 2513000.0 PT1400 6/1/2001 00:00:00   Pets      1.0                                   Rifkin, Mr. Bob\n",
              "3 2513000.0 PT2000 6/1/2001 00:00:00   Pet       1.0                                   Rifkin, Mr. Bob\n",
              "4 2513000.0 PT2100 6/1/2001 00:00:00   Pets      1.0                                   Rifkin, Mr. Bob\n",
              "5 2513000.0 PT2OOO 27/7/2000 00:00:00  Pets      4.0                                   Rifkin, Mr. Bob"
            ]
          },
          "metadata": {
            "tags": []
          },
          "execution_count": 55
        }
      ]
    },
    {
      "cell_type": "code",
      "metadata": {
        "id": "11bRe0pbQ_a6"
      },
      "source": [
        ""
      ],
      "execution_count": null,
      "outputs": []
    }
  ]
}