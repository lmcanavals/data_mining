{
  "nbformat": 4,
  "nbformat_minor": 0,
  "metadata": {
    "colab": {
      "name": "ac_decision_tree.ipynb",
      "provenance": [],
      "authorship_tag": "ABX9TyOXj7IKa9f1NDEId4+kblPw",
      "include_colab_link": true
    },
    "kernelspec": {
      "name": "python3",
      "display_name": "Python 3"
    },
    "language_info": {
      "name": "python"
    }
  },
  "cells": [
    {
      "cell_type": "markdown",
      "metadata": {
        "id": "view-in-github",
        "colab_type": "text"
      },
      "source": [
        "<a href=\"https://colab.research.google.com/github/lmcanavals/data_mining/blob/main/notebooks/ac_decision_tree.ipynb\" target=\"_parent\"><img src=\"https://colab.research.google.com/assets/colab-badge.svg\" alt=\"Open In Colab\"/></a>"
      ]
    },
    {
      "cell_type": "code",
      "metadata": {
        "colab": {
          "base_uri": "https://localhost:8080/"
        },
        "id": "1YWjZgz-spZi",
        "outputId": "78b3de0f-e690-42b1-8cf5-c6b5c84678bd"
      },
      "source": [
        "%%file 1.csv\n",
        "Weather,Temperature,Humidity,Wind,Golf Play\n",
        "fine,hot,high,none,no\n",
        "fine,hot,high,few,no\n",
        "cloud,hot,high,none,yes\n",
        "rain,warm,high,none,yes\n",
        "rain,cold,midiam,none,yes\n",
        "rain,cold,midiam,few,no\n",
        "cloud,cold,midiam,few,yes\n",
        "fine,warm,high,none,no\n",
        "fine,cold,midiam,none,yes\n",
        "rain,warm,midiam,none,yes\n",
        "fine,warm,midiam,few,yes\n",
        "cloud,warm,high,few,yes\n",
        "cloud,hot,midiam,none,yes\n",
        "rain,warm,high,few,no"
      ],
      "execution_count": 1,
      "outputs": [
        {
          "output_type": "stream",
          "text": [
            "Writing 1.csv\n"
          ],
          "name": "stdout"
        }
      ]
    },
    {
      "cell_type": "code",
      "metadata": {
        "id": "uBFr-3_qtaJh"
      },
      "source": [
        "import pandas as pd\n",
        "import numpy as np\n",
        "import matplotlib.pyplot as plt"
      ],
      "execution_count": 2,
      "outputs": []
    },
    {
      "cell_type": "code",
      "metadata": {
        "colab": {
          "base_uri": "https://localhost:8080/",
          "height": 483
        },
        "id": "tAoFvHiPtfU8",
        "outputId": "17652f39-c10f-45ed-92ff-0ba1576c66d3"
      },
      "source": [
        "data = pd.read_csv('1.csv')\n",
        "data"
      ],
      "execution_count": 3,
      "outputs": [
        {
          "output_type": "execute_result",
          "data": {
            "text/html": [
              "<div>\n",
              "<style scoped>\n",
              "    .dataframe tbody tr th:only-of-type {\n",
              "        vertical-align: middle;\n",
              "    }\n",
              "\n",
              "    .dataframe tbody tr th {\n",
              "        vertical-align: top;\n",
              "    }\n",
              "\n",
              "    .dataframe thead th {\n",
              "        text-align: right;\n",
              "    }\n",
              "</style>\n",
              "<table border=\"1\" class=\"dataframe\">\n",
              "  <thead>\n",
              "    <tr style=\"text-align: right;\">\n",
              "      <th></th>\n",
              "      <th>Weather</th>\n",
              "      <th>Temperature</th>\n",
              "      <th>Humidity</th>\n",
              "      <th>Wind</th>\n",
              "      <th>Golf Play</th>\n",
              "    </tr>\n",
              "  </thead>\n",
              "  <tbody>\n",
              "    <tr>\n",
              "      <th>0</th>\n",
              "      <td>fine</td>\n",
              "      <td>hot</td>\n",
              "      <td>high</td>\n",
              "      <td>none</td>\n",
              "      <td>no</td>\n",
              "    </tr>\n",
              "    <tr>\n",
              "      <th>1</th>\n",
              "      <td>fine</td>\n",
              "      <td>hot</td>\n",
              "      <td>high</td>\n",
              "      <td>few</td>\n",
              "      <td>no</td>\n",
              "    </tr>\n",
              "    <tr>\n",
              "      <th>2</th>\n",
              "      <td>cloud</td>\n",
              "      <td>hot</td>\n",
              "      <td>high</td>\n",
              "      <td>none</td>\n",
              "      <td>yes</td>\n",
              "    </tr>\n",
              "    <tr>\n",
              "      <th>3</th>\n",
              "      <td>rain</td>\n",
              "      <td>warm</td>\n",
              "      <td>high</td>\n",
              "      <td>none</td>\n",
              "      <td>yes</td>\n",
              "    </tr>\n",
              "    <tr>\n",
              "      <th>4</th>\n",
              "      <td>rain</td>\n",
              "      <td>cold</td>\n",
              "      <td>midiam</td>\n",
              "      <td>none</td>\n",
              "      <td>yes</td>\n",
              "    </tr>\n",
              "    <tr>\n",
              "      <th>5</th>\n",
              "      <td>rain</td>\n",
              "      <td>cold</td>\n",
              "      <td>midiam</td>\n",
              "      <td>few</td>\n",
              "      <td>no</td>\n",
              "    </tr>\n",
              "    <tr>\n",
              "      <th>6</th>\n",
              "      <td>cloud</td>\n",
              "      <td>cold</td>\n",
              "      <td>midiam</td>\n",
              "      <td>few</td>\n",
              "      <td>yes</td>\n",
              "    </tr>\n",
              "    <tr>\n",
              "      <th>7</th>\n",
              "      <td>fine</td>\n",
              "      <td>warm</td>\n",
              "      <td>high</td>\n",
              "      <td>none</td>\n",
              "      <td>no</td>\n",
              "    </tr>\n",
              "    <tr>\n",
              "      <th>8</th>\n",
              "      <td>fine</td>\n",
              "      <td>cold</td>\n",
              "      <td>midiam</td>\n",
              "      <td>none</td>\n",
              "      <td>yes</td>\n",
              "    </tr>\n",
              "    <tr>\n",
              "      <th>9</th>\n",
              "      <td>rain</td>\n",
              "      <td>warm</td>\n",
              "      <td>midiam</td>\n",
              "      <td>none</td>\n",
              "      <td>yes</td>\n",
              "    </tr>\n",
              "    <tr>\n",
              "      <th>10</th>\n",
              "      <td>fine</td>\n",
              "      <td>warm</td>\n",
              "      <td>midiam</td>\n",
              "      <td>few</td>\n",
              "      <td>yes</td>\n",
              "    </tr>\n",
              "    <tr>\n",
              "      <th>11</th>\n",
              "      <td>cloud</td>\n",
              "      <td>warm</td>\n",
              "      <td>high</td>\n",
              "      <td>few</td>\n",
              "      <td>yes</td>\n",
              "    </tr>\n",
              "    <tr>\n",
              "      <th>12</th>\n",
              "      <td>cloud</td>\n",
              "      <td>hot</td>\n",
              "      <td>midiam</td>\n",
              "      <td>none</td>\n",
              "      <td>yes</td>\n",
              "    </tr>\n",
              "    <tr>\n",
              "      <th>13</th>\n",
              "      <td>rain</td>\n",
              "      <td>warm</td>\n",
              "      <td>high</td>\n",
              "      <td>few</td>\n",
              "      <td>no</td>\n",
              "    </tr>\n",
              "  </tbody>\n",
              "</table>\n",
              "</div>"
            ],
            "text/plain": [
              "   Weather Temperature Humidity  Wind Golf Play\n",
              "0     fine         hot     high  none        no\n",
              "1     fine         hot     high   few        no\n",
              "2    cloud         hot     high  none       yes\n",
              "3     rain        warm     high  none       yes\n",
              "4     rain        cold   midiam  none       yes\n",
              "5     rain        cold   midiam   few        no\n",
              "6    cloud        cold   midiam   few       yes\n",
              "7     fine        warm     high  none        no\n",
              "8     fine        cold   midiam  none       yes\n",
              "9     rain        warm   midiam  none       yes\n",
              "10    fine        warm   midiam   few       yes\n",
              "11   cloud        warm     high   few       yes\n",
              "12   cloud         hot   midiam  none       yes\n",
              "13    rain        warm     high   few        no"
            ]
          },
          "metadata": {
            "tags": []
          },
          "execution_count": 3
        }
      ]
    },
    {
      "cell_type": "code",
      "metadata": {
        "id": "w314h2EpwGqY"
      },
      "source": [
        "cls = \"Golf Play\""
      ],
      "execution_count": 10,
      "outputs": []
    },
    {
      "cell_type": "code",
      "metadata": {
        "colab": {
          "base_uri": "https://localhost:8080/"
        },
        "id": "A8LPY0IEtorl",
        "outputId": "1b10e7ba-69ec-4fb1-807f-9ff294d770c3"
      },
      "source": [
        "entropy_d = 0\n",
        "d = len(data)\n",
        "for c in data[cls].unique():\n",
        "  num = len(data[data[cls] == c])\n",
        "  p = num / d\n",
        "  entropy_d -= p * np.log2(p)\n",
        "\n",
        "entropy_d"
      ],
      "execution_count": 11,
      "outputs": [
        {
          "output_type": "execute_result",
          "data": {
            "text/plain": [
              "0.9402859586706309"
            ]
          },
          "metadata": {
            "tags": []
          },
          "execution_count": 11
        }
      ]
    },
    {
      "cell_type": "code",
      "metadata": {
        "colab": {
          "base_uri": "https://localhost:8080/"
        },
        "id": "KKU1ec8Ot1WK",
        "outputId": "8570c156-3d4f-4969-fa56-9c1d68e8860b"
      },
      "source": [
        "for col in data:\n",
        "  if col != cls:\n",
        "    entropy_col = dict()\n",
        "    for c in data[col].unique():\n",
        "      entropy_col[c] = 0\n",
        "      data_c = data[data[col] == c]\n",
        "      for c1 in data_c[cls].unique():\n",
        "        num = len(data_c[data_c[cls] == c1])\n",
        "        p = num / d\n",
        "        entropy_col[c] -= p * np.log2(p)\n",
        "\n",
        "    #print(entropy_col)\n",
        "\n",
        "    gain_col = entropy_d\n",
        "    for c in data[col].unique():\n",
        "      num = len(data[data[col] == c])\n",
        "      p = num / d\n",
        "      gain_col -= p * entropy_col[c]\n",
        "\n",
        "    print(col, gain_col)\n",
        "\n"
      ],
      "execution_count": 16,
      "outputs": [
        {
          "output_type": "stream",
          "text": [
            "Weather 0.1661198880881452\n",
            "Temperature 0.10416052657234937\n",
            "Humidity 0.046060730016486195\n",
            "Wind 0.0035581926237773787\n"
          ],
          "name": "stdout"
        }
      ]
    },
    {
      "cell_type": "code",
      "metadata": {
        "id": "67jjcCwTv0Zd"
      },
      "source": [
        ""
      ],
      "execution_count": null,
      "outputs": []
    }
  ]
}