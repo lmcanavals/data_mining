{
  "nbformat": 4,
  "nbformat_minor": 0,
  "metadata": {
    "colab": {
      "name": "aa_preprocessing.ipynb",
      "provenance": [],
      "authorship_tag": "ABX9TyPLhh+RHq4cUnu1F+FQAnqP",
      "include_colab_link": true
    },
    "kernelspec": {
      "name": "python3",
      "display_name": "Python 3"
    },
    "language_info": {
      "name": "python"
    }
  },
  "cells": [
    {
      "cell_type": "markdown",
      "metadata": {
        "id": "view-in-github",
        "colab_type": "text"
      },
      "source": [
        "<a href=\"https://colab.research.google.com/github/lmcanavals/data_mining/blob/main/notebooks/aa_preprocessing.ipynb\" target=\"_parent\"><img src=\"https://colab.research.google.com/assets/colab-badge.svg\" alt=\"Open In Colab\"/></a>"
      ]
    },
    {
      "cell_type": "code",
      "metadata": {
        "id": "3RnymjiL8-fz"
      },
      "source": [
        "from sklearn import preprocessing\n",
        "import numpy as np"
      ],
      "execution_count": null,
      "outputs": []
    },
    {
      "cell_type": "markdown",
      "metadata": {
        "id": "GBJP-gvPCPJC"
      },
      "source": [
        "## Standarization"
      ]
    },
    {
      "cell_type": "markdown",
      "metadata": {
        "id": "v7CgXLya_NCO"
      },
      "source": [
        "Llevar los datos de las columnas a la misma distribución."
      ]
    },
    {
      "cell_type": "code",
      "metadata": {
        "colab": {
          "base_uri": "https://localhost:8080/"
        },
        "id": "1JryN1Fc9XP2",
        "outputId": "7b2a6114-6aef-4c26-c032-512c3ba29a45"
      },
      "source": [
        "X_train = np.array([[1, -1, 2], [2, 0, 0], [0, 1, -1]])\n",
        "X_scaled = preprocessing.scale(X_train)\n",
        "print(X_scaled)\n",
        "print(X_scaled.mean(axis=0))\n",
        "print(X_scaled.std(axis=0))"
      ],
      "execution_count": null,
      "outputs": [
        {
          "output_type": "stream",
          "text": [
            "[[ 0.         -1.22474487  1.33630621]\n",
            " [ 1.22474487  0.         -0.26726124]\n",
            " [-1.22474487  1.22474487 -1.06904497]]\n",
            "[0. 0. 0.]\n",
            "[1. 1. 1.]\n"
          ],
          "name": "stdout"
        }
      ]
    },
    {
      "cell_type": "markdown",
      "metadata": {
        "id": "OD4kwr3CAsoF"
      },
      "source": [
        "Cuando queremos aplicar scale a otros datos, es mejor crear un scaler"
      ]
    },
    {
      "cell_type": "code",
      "metadata": {
        "colab": {
          "base_uri": "https://localhost:8080/"
        },
        "id": "TFsJqdrx-P1x",
        "outputId": "7ef5ce60-5296-487a-a997-e38dbc084879"
      },
      "source": [
        "scaler = preprocessing.StandardScaler().fit(X_train)\n",
        "print(scaler)\n",
        "print(scaler.mean_)\n",
        "print(scaler.scale_)\n",
        "scaler.transform(X_train)"
      ],
      "execution_count": null,
      "outputs": [
        {
          "output_type": "stream",
          "text": [
            "StandardScaler(copy=True, with_mean=True, with_std=True)\n",
            "[1.         0.         0.33333333]\n",
            "[0.81649658 0.81649658 1.24721913]\n"
          ],
          "name": "stdout"
        },
        {
          "output_type": "execute_result",
          "data": {
            "text/plain": [
              "array([[ 0.        , -1.22474487,  1.33630621],\n",
              "       [ 1.22474487,  0.        , -0.26726124],\n",
              "       [-1.22474487,  1.22474487, -1.06904497]])"
            ]
          },
          "metadata": {
            "tags": []
          },
          "execution_count": 8
        }
      ]
    },
    {
      "cell_type": "code",
      "metadata": {
        "colab": {
          "base_uri": "https://localhost:8080/"
        },
        "id": "CutE2I4IBDqD",
        "outputId": "0cc057a7-129d-458f-a9a4-60791ab6c9a5"
      },
      "source": [
        "X_test = [[-1, 1, 0]]\n",
        "scaler.transform(X_test)"
      ],
      "execution_count": null,
      "outputs": [
        {
          "output_type": "execute_result",
          "data": {
            "text/plain": [
              "array([[-2.44948974,  1.22474487, -0.26726124]])"
            ]
          },
          "metadata": {
            "tags": []
          },
          "execution_count": 9
        }
      ]
    },
    {
      "cell_type": "markdown",
      "metadata": {
        "id": "AZ3bIM8iCTav"
      },
      "source": [
        "## Normalization"
      ]
    },
    {
      "cell_type": "code",
      "metadata": {
        "colab": {
          "base_uri": "https://localhost:8080/"
        },
        "id": "0zu8qU4sB-9-",
        "outputId": "91122de5-1212-424d-fbc5-7c263ca3ba5e"
      },
      "source": [
        "X_normalized = preprocessing.normalize(X_train, norm='l2')\n",
        "print(X_normalized)"
      ],
      "execution_count": null,
      "outputs": [
        {
          "output_type": "stream",
          "text": [
            "[[ 0.40824829 -0.40824829  0.81649658]\n",
            " [ 1.          0.          0.        ]\n",
            " [ 0.          0.70710678 -0.70710678]]\n"
          ],
          "name": "stdout"
        }
      ]
    },
    {
      "cell_type": "code",
      "metadata": {
        "colab": {
          "base_uri": "https://localhost:8080/"
        },
        "id": "Uckn-mN1Cqcb",
        "outputId": "38231254-a539-4e40-e5ac-a1201a61fa61"
      },
      "source": [
        "normalizer = preprocessing.Normalizer().fit(X_train)\n",
        "print(normalizer)\n",
        "normalizer.transform(X_train)"
      ],
      "execution_count": null,
      "outputs": [
        {
          "output_type": "stream",
          "text": [
            "Normalizer(copy=True, norm='l2')\n"
          ],
          "name": "stdout"
        },
        {
          "output_type": "execute_result",
          "data": {
            "text/plain": [
              "array([[ 0.40824829, -0.40824829,  0.81649658],\n",
              "       [ 1.        ,  0.        ,  0.        ],\n",
              "       [ 0.        ,  0.70710678, -0.70710678]])"
            ]
          },
          "metadata": {
            "tags": []
          },
          "execution_count": 11
        }
      ]
    },
    {
      "cell_type": "code",
      "metadata": {
        "colab": {
          "base_uri": "https://localhost:8080/"
        },
        "id": "rAOnyRCZDbxJ",
        "outputId": "3868b134-6c4f-41d8-8611-085be2296041"
      },
      "source": [
        "normalizer.transform(X_test)"
      ],
      "execution_count": null,
      "outputs": [
        {
          "output_type": "execute_result",
          "data": {
            "text/plain": [
              "array([[-0.70710678,  0.70710678,  0.        ]])"
            ]
          },
          "metadata": {
            "tags": []
          },
          "execution_count": 12
        }
      ]
    },
    {
      "cell_type": "markdown",
      "metadata": {
        "id": "AezC33PvDumX"
      },
      "source": [
        "## Missing values"
      ]
    },
    {
      "cell_type": "code",
      "metadata": {
        "id": "hCkho9CxDeJf"
      },
      "source": [
        "from sklearn.impute import SimpleImputer"
      ],
      "execution_count": null,
      "outputs": []
    },
    {
      "cell_type": "code",
      "metadata": {
        "colab": {
          "base_uri": "https://localhost:8080/"
        },
        "id": "-0Pvd2qeD2MZ",
        "outputId": "f46d7501-81b6-4aff-936a-ed8fc8900b7d"
      },
      "source": [
        "imp = SimpleImputer(missing_values=np.nan, strategy='mean')\n",
        "imp.fit([[     1, 2],\n",
        "         [np.nan, 3],\n",
        "         [     7, 6]])"
      ],
      "execution_count": null,
      "outputs": [
        {
          "output_type": "execute_result",
          "data": {
            "text/plain": [
              "SimpleImputer(add_indicator=False, copy=True, fill_value=None,\n",
              "              missing_values=nan, strategy='mean', verbose=0)"
            ]
          },
          "metadata": {
            "tags": []
          },
          "execution_count": 21
        }
      ]
    },
    {
      "cell_type": "code",
      "metadata": {
        "colab": {
          "base_uri": "https://localhost:8080/"
        },
        "id": "pn_XbkVeE5ZX",
        "outputId": "02846fc8-e728-43a0-c0fc-f2ff0009d1b3"
      },
      "source": [
        "X = [[np.nan,      2],\n",
        "     [     6, np.nan],\n",
        "     [     7,      6],\n",
        "     [np.nan,      4],\n",
        "     [     1,      1],\n",
        "     [np.nan, np.nan]]\n",
        "imp.transform(X)"
      ],
      "execution_count": null,
      "outputs": [
        {
          "output_type": "execute_result",
          "data": {
            "text/plain": [
              "array([[4.        , 2.        ],\n",
              "       [6.        , 3.66666667],\n",
              "       [7.        , 6.        ],\n",
              "       [4.        , 4.        ],\n",
              "       [1.        , 1.        ],\n",
              "       [4.        , 3.66666667]])"
            ]
          },
          "metadata": {
            "tags": []
          },
          "execution_count": 23
        }
      ]
    },
    {
      "cell_type": "code",
      "metadata": {
        "colab": {
          "base_uri": "https://localhost:8080/"
        },
        "id": "HOCp3PwFFQyP",
        "outputId": "1bf0667f-0f95-46e9-9fde-e2b4114996b7"
      },
      "source": [
        "import scipy.sparse as sp\n",
        "X = sp.csc_matrix([[1, 2], [0, -1], [7, 6]])\n",
        "\n",
        "imp = SimpleImputer(missing_values=-1, strategy ='mean')\n",
        "imp.fit(X)\n",
        "\n",
        "X_test = sp.csc_matrix ([[-1, 2], [6, -1], [7, 6]])\n",
        "imp.transform(X_test).toarray()"
      ],
      "execution_count": null,
      "outputs": [
        {
          "output_type": "execute_result",
          "data": {
            "text/plain": [
              "array([[2.66666667, 2.        ],\n",
              "       [6.        , 4.        ],\n",
              "       [7.        , 6.        ]])"
            ]
          },
          "metadata": {
            "tags": []
          },
          "execution_count": 29
        }
      ]
    },
    {
      "cell_type": "markdown",
      "metadata": {
        "id": "91O1CuOpNTKu"
      },
      "source": [
        "## Rescaling"
      ]
    },
    {
      "cell_type": "code",
      "metadata": {
        "id": "RRd6xgAIHYOr"
      },
      "source": [
        "import pandas as pd\n",
        "import scipy\n",
        "from sklearn.preprocessing import MinMaxScaler"
      ],
      "execution_count": null,
      "outputs": []
    },
    {
      "cell_type": "code",
      "metadata": {
        "id": "Q8_qNkkLNdc8"
      },
      "source": [
        "url=\"https://gist.githubusercontent.com/ktisha/c21e73a1bd1700294ef790c56c8aec1f/raw/819b69b5736821ccee93d05b51de0510bea00294/pima-indians-diabetes.csv\""
      ],
      "execution_count": null,
      "outputs": []
    },
    {
      "cell_type": "code",
      "metadata": {
        "colab": {
          "base_uri": "https://localhost:8080/"
        },
        "id": "vFUWxgE6OmD5",
        "outputId": "0a0c71a8-2a14-4b40-9f35-9468dcbc9c0f"
      },
      "source": [
        "names=['preg', 'plas', 'pres', 'skin', 'test', 'mass', 'pedi', 'age', 'class']\n",
        "dataframe = pd.read_csv(url, names=names, comment=\"#\")\n",
        "array = dataframe.values\n",
        "X = array[:, :-1]\n",
        "Y = array[:, -1]\n",
        "scaler = MinMaxScaler(feature_range=(0, 1))\n",
        "\n",
        "X_rescaled = scaler.fit_transform(X)\n",
        "np.set_printoptions(precision=3)\n",
        "X_rescaled[:5]"
      ],
      "execution_count": null,
      "outputs": [
        {
          "output_type": "execute_result",
          "data": {
            "text/plain": [
              "array([[0.353, 0.744, 0.59 , 0.354, 0.   , 0.501, 0.234, 0.483],\n",
              "       [0.059, 0.427, 0.541, 0.293, 0.   , 0.396, 0.117, 0.167],\n",
              "       [0.471, 0.92 , 0.525, 0.   , 0.   , 0.347, 0.254, 0.183],\n",
              "       [0.059, 0.447, 0.541, 0.232, 0.111, 0.419, 0.038, 0.   ],\n",
              "       [0.   , 0.688, 0.328, 0.354, 0.199, 0.642, 0.944, 0.2  ]])"
            ]
          },
          "metadata": {
            "tags": []
          },
          "execution_count": 35
        }
      ]
    },
    {
      "cell_type": "markdown",
      "metadata": {
        "id": "q8SKVzN4Q-sS"
      },
      "source": [
        "## Binarization"
      ]
    },
    {
      "cell_type": "code",
      "metadata": {
        "id": "aQpxtFEcPaPh"
      },
      "source": [
        "from sklearn.preprocessing import Binarizer"
      ],
      "execution_count": null,
      "outputs": []
    },
    {
      "cell_type": "code",
      "metadata": {
        "colab": {
          "base_uri": "https://localhost:8080/"
        },
        "id": "avt7o2RoRLYD",
        "outputId": "1247591d-49ad-4d01-afa9-e3990c31abd6"
      },
      "source": [
        "binarizer = Binarizer(threshold=0.5).fit(X_rescaled)\n",
        "X_binarized = binarizer.transform(X_rescaled)\n",
        "X_binarized[:5]"
      ],
      "execution_count": null,
      "outputs": [
        {
          "output_type": "execute_result",
          "data": {
            "text/plain": [
              "array([[0., 1., 1., 0., 0., 1., 0., 0.],\n",
              "       [0., 0., 1., 0., 0., 0., 0., 0.],\n",
              "       [0., 1., 1., 0., 0., 0., 0., 0.],\n",
              "       [0., 0., 1., 0., 0., 0., 0., 0.],\n",
              "       [0., 1., 0., 0., 0., 1., 1., 0.]])"
            ]
          },
          "metadata": {
            "tags": []
          },
          "execution_count": 39
        }
      ]
    },
    {
      "cell_type": "markdown",
      "metadata": {
        "id": "BTyCSuqtSpH1"
      },
      "source": [
        "## Standarization"
      ]
    },
    {
      "cell_type": "code",
      "metadata": {
        "id": "z2PbYpelR1on"
      },
      "source": [
        "from sklearn.preprocessing import StandardScaler"
      ],
      "execution_count": null,
      "outputs": []
    },
    {
      "cell_type": "code",
      "metadata": {
        "colab": {
          "base_uri": "https://localhost:8080/"
        },
        "id": "PVBGY4a-SxfH",
        "outputId": "d8dd4fb2-d86a-467b-a602-c143478c1333"
      },
      "source": [
        "scaler = StandardScaler().fit(X)\n",
        "rescaledX = scaler.transform(X)\n",
        "rescaledX[:5]"
      ],
      "execution_count": null,
      "outputs": [
        {
          "output_type": "execute_result",
          "data": {
            "text/plain": [
              "array([[ 0.64 ,  0.848,  0.15 ,  0.907, -0.693,  0.204,  0.468,  1.426],\n",
              "       [-0.845, -1.123, -0.161,  0.531, -0.693, -0.684, -0.365, -0.191],\n",
              "       [ 1.234,  1.944, -0.264, -1.288, -0.693, -1.103,  0.604, -0.106],\n",
              "       [-0.845, -0.998, -0.161,  0.155,  0.123, -0.494, -0.921, -1.042],\n",
              "       [-1.142,  0.504, -1.505,  0.907,  0.766,  1.41 ,  5.485, -0.02 ]])"
            ]
          },
          "metadata": {
            "tags": []
          },
          "execution_count": 41
        }
      ]
    },
    {
      "cell_type": "code",
      "metadata": {
        "id": "JoBv367_S9f6"
      },
      "source": [
        ""
      ],
      "execution_count": null,
      "outputs": []
    }
  ]
}